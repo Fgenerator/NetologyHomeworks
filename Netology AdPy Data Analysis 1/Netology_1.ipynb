{
 "cells": [
  {
   "cell_type": "code",
   "execution_count": 195,
   "metadata": {},
   "outputs": [],
   "source": [
    "import pandas as pd"
   ]
  },
  {
   "cell_type": "code",
   "execution_count": 196,
   "metadata": {},
   "outputs": [],
   "source": [
    "def prepare_df(years):\n",
    "    df_res = []\n",
    "    for year in years:\n",
    "        df = pd.read_csv(f'yob{year}.txt', names=['Names', 'Gender', 'Count'])\n",
    "        df_res.append(df)\n",
    "    df_res = pd.concat(df_res)\n",
    "    df_res.reset_index(inplace=True)\n",
    "    return df_res"
   ]
  },
  {
   "cell_type": "code",
   "execution_count": 197,
   "metadata": {},
   "outputs": [],
   "source": [
    "def count_top_3(years):\n",
    "    df_res = prepare_df(years)\n",
    "    result = df_res.groupby(['Names']).sum()[['Count']].sort_values('Count', ascending=False).head(3)\n",
    "    names = [result.iloc[0].name, result.iloc[1].name, result.iloc[2].name]\n",
    "    return names           "
   ]
  },
  {
   "cell_type": "code",
   "execution_count": 198,
   "metadata": {},
   "outputs": [
    {
     "data": {
      "text/plain": [
       "['James', 'John', 'Robert']"
      ]
     },
     "execution_count": 198,
     "metadata": {},
     "output_type": "execute_result"
    }
   ],
   "source": [
    "count_top_3([1900, 1950, 2000])"
   ]
  },
  {
   "cell_type": "code",
   "execution_count": 199,
   "metadata": {},
   "outputs": [
    {
     "data": {
      "text/plain": [
       "['John', 'William', 'Mary']"
      ]
     },
     "execution_count": 199,
     "metadata": {},
     "output_type": "execute_result"
    }
   ],
   "source": [
    "count_top_3([1880])"
   ]
  },
  {
   "cell_type": "code",
   "execution_count": 228,
   "metadata": {},
   "outputs": [],
   "source": [
    "def count_dynamics(years):\n",
    "    result = {\n",
    "        'F': [],\n",
    "        'M': []\n",
    "    }\n",
    "    for year in years:\n",
    "        df = pd.read_csv(f'yob{year}.txt', names=['Names', 'Gender', 'Count'])\n",
    "        print(df['Count'].sum())\n",
    "        result['F'].append(df.groupby([\"Gender\"]).sum()[['Count']].loc['F']['Count'])\n",
    "        result['M'].append(df.groupby([\"Gender\"]).sum()[['Count']].loc['M']['Count'])\n",
    "    return result"
   ]
  },
  {
   "cell_type": "code",
   "execution_count": 229,
   "metadata": {},
   "outputs": [
    {
     "name": "stdout",
     "output_type": "stream",
     "text": [
      "450278\n",
      "3503502\n",
      "3778497\n"
     ]
    },
    {
     "data": {
      "text/plain": [
       "{'F': [299798, 1713065, 1815295], 'M': [150480, 1790437, 1963202]}"
      ]
     },
     "execution_count": 229,
     "metadata": {},
     "output_type": "execute_result"
    }
   ],
   "source": [
    "count_dynamics([1900, 1950, 2000])"
   ]
  },
  {
   "cell_type": "code",
   "execution_count": 230,
   "metadata": {},
   "outputs": [
    {
     "data": {
      "text/plain": [
       "150480"
      ]
     },
     "execution_count": 230,
     "metadata": {},
     "output_type": "execute_result"
    }
   ],
   "source": [
    "450278-299798"
   ]
  },
  {
   "cell_type": "code",
   "execution_count": 232,
   "metadata": {},
   "outputs": [
    {
     "data": {
      "text/plain": [
       "450296"
      ]
     },
     "execution_count": 232,
     "metadata": {},
     "output_type": "execute_result"
    }
   ],
   "source": [
    "299810+150486"
   ]
  },
  {
   "cell_type": "code",
   "execution_count": 233,
   "metadata": {},
   "outputs": [
    {
     "data": {
      "text/plain": [
       "450278"
      ]
     },
     "execution_count": 233,
     "metadata": {},
     "output_type": "execute_result"
    }
   ],
   "source": [
    "299798+150480"
   ]
  },
  {
   "cell_type": "code",
   "execution_count": null,
   "metadata": {},
   "outputs": [],
   "source": []
  }
 ],
 "metadata": {
  "kernelspec": {
   "display_name": "Python 3",
   "language": "python",
   "name": "python3"
  },
  "language_info": {
   "codemirror_mode": {
    "name": "ipython",
    "version": 3
   },
   "file_extension": ".py",
   "mimetype": "text/x-python",
   "name": "python",
   "nbconvert_exporter": "python",
   "pygments_lexer": "ipython3",
   "version": "3.7.6"
  }
 },
 "nbformat": 4,
 "nbformat_minor": 4
}
